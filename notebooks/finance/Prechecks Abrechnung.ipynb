{
 "cells": [
  {
   "cell_type": "code",
   "execution_count": null,
   "id": "d56e9377",
   "metadata": {},
   "outputs": [],
   "source": [
    "%pip install openpyxl pandas\n"
   ]
  },
  {
   "cell_type": "code",
   "execution_count": null,
   "id": "8543df00",
   "metadata": {},
   "outputs": [],
   "source": [
    "# ger most recent file from Downloads 'RC101533_abrechnung_Abr_*_export.xlsx'\n",
    "import os\n",
    "import glob\n",
    "\n",
    "# Define the path to the Downloads directory\n",
    "downloads_path = os.path.expanduser('~/Downloads')\n",
    "# Use glob to find the most recent file matching the pattern\n",
    "most_recent_file = max(glob.glob(os.path.join(downloads_path, 'RC101533_abrechnung_Abr_*_export*.xlsx')), key=os.path.getctime)\n",
    "\n",
    "most_recent_file"
   ]
  },
  {
   "cell_type": "code",
   "execution_count": null,
   "id": "4da14e56",
   "metadata": {},
   "outputs": [],
   "source": [
    "# load to data frame\n",
    "import pandas as pd\n",
    "df = pd.read_excel(most_recent_file, sheet_name='Liste')\n"
   ]
  },
  {
   "cell_type": "markdown",
   "id": "24246d12",
   "metadata": {},
   "source": [
    "# Check SEPA settings"
   ]
  },
  {
   "cell_type": "code",
   "execution_count": null,
   "id": "9b09b29e",
   "metadata": {},
   "outputs": [],
   "source": [
    "# make sure that 'Empfänger Einzugsart' is 'None'\n",
    "df_filtered = df[df['Empfänger Einzugsart'] != 'NONE']\n"
   ]
  },
  {
   "cell_type": "code",
   "execution_count": null,
   "id": "cc25bcfa",
   "metadata": {},
   "outputs": [],
   "source": [
    "# filter for Empfänger Mandatsreferenz is NaN\n",
    "df_filtered = df[df['Empfänger Mandatsreferenz'].isna()]\n",
    "df_filtered[['Empfänger Konto IBAN', 'Empfänger Mandatsreferenz', 'Empfänger Einzugsart', 'Empfänger Mitgliedsnummer']].drop_duplicates()"
   ]
  },
  {
   "cell_type": "code",
   "execution_count": null,
   "id": "1aaed558",
   "metadata": {},
   "outputs": [],
   "source": []
  }
 ],
 "metadata": {
  "kernelspec": {
   "display_name": ".venv",
   "language": "python",
   "name": "python3"
  },
  "language_info": {
   "codemirror_mode": {
    "name": "ipython",
    "version": 3
   },
   "file_extension": ".py",
   "mimetype": "text/x-python",
   "name": "python",
   "nbconvert_exporter": "python",
   "pygments_lexer": "ipython3",
   "version": "3.13.3"
  }
 },
 "nbformat": 4,
 "nbformat_minor": 5
}
