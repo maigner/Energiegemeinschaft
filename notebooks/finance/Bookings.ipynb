{
 "cells": [
  {
   "cell_type": "code",
   "execution_count": null,
   "metadata": {},
   "outputs": [],
   "source": [
    "%pip install python-dotenv pandas chardet"
   ]
  },
  {
   "cell_type": "code",
   "execution_count": 8,
   "metadata": {},
   "outputs": [],
   "source": [
    "import_file = \"George-CSV-Export/2025-01-01_2025-12-31.csv\""
   ]
  },
  {
   "cell_type": "code",
   "execution_count": null,
   "metadata": {},
   "outputs": [],
   "source": [
    "import chardet\n",
    "\n",
    "# Open the CSV file in binary mode\n",
    "with open(import_file, 'rb') as file:\n",
    "    raw_data = file.read()\n",
    "\n",
    "# Detect the encoding\n",
    "result = chardet.detect(raw_data)\n",
    "\n",
    "csv_encoding = result['encoding']\n",
    "\n",
    "# Print the detected encoding\n",
    "print(f\"Detected encoding: {csv_encoding}\")"
   ]
  },
  {
   "cell_type": "code",
   "execution_count": null,
   "metadata": {},
   "outputs": [],
   "source": [
    "import pandas as pd\n",
    "\n",
    "# Load CSV file into DataFrame\n",
    "df = pd.read_csv(import_file, encoding=csv_encoding, parse_dates=[\n",
    "    \"Buchungsdatum\", \n",
    "    \"Valutadatum\"\n",
    "    ], dayfirst=True, keep_default_na=False)\n",
    "\n",
    "\n",
    "# apply data type fixes\n",
    "df['Highlight'] = df['Highlight'].astype(bool)\n",
    "\n",
    "# input number format: \"10.123,02\"\n",
    "# output: 100123.02\n",
    "df['Betrag'] = df['Betrag'].apply( lambda x: float(x.replace(\".\", \"\").replace(\",\", \".\")))\n",
    "\n",
    "# Display the first few rows of the DataFrame\n",
    "df.head()"
   ]
  },
  {
   "cell_type": "code",
   "execution_count": null,
   "metadata": {},
   "outputs": [],
   "source": [
    "df.dtypes"
   ]
  },
  {
   "cell_type": "code",
   "execution_count": 12,
   "metadata": {},
   "outputs": [],
   "source": [
    "\n",
    "\n",
    "import psycopg\n",
    "import os\n",
    "import pytz\n",
    "\n",
    "os.environ['PGSERVICEFILE'] = \"/home/martin/Workspace/Energiegemeinschaft/notebooks/.pg_service.conf\"\n",
    "os.environ['PGPASSFILE'] = \"/home/martin/Workspace/Energiegemeinschaft/notebooks/.pgpass\"\n",
    "\n",
    "with psycopg.connect(service='eeg-middleware') as conn:\n",
    "    with conn.cursor() as cur:\n",
    "        \n",
    "        \n",
    "        sql = \"\"\"\n",
    "        INSERT INTO accounting_booking (\n",
    "            account_name,\n",
    "            iban,\n",
    "            booking_date,\n",
    "            partner_name,\n",
    "            partner_iban,\n",
    "            bic_swift,\n",
    "            partner_account_number,\n",
    "            bank_code,\n",
    "            amount,\n",
    "            currency,\n",
    "            booking_details,\n",
    "            booking_reference,  -- unique reference\n",
    "            note,\n",
    "            highlight,\n",
    "            value_date,\n",
    "            virtual_card_number,\n",
    "            paid_with,\n",
    "            app,\n",
    "            payment_reference,\n",
    "            mandate_id,\n",
    "            creditor_id\n",
    "        )\n",
    "        VALUES (\n",
    "            %s, %s, %s, %s, %s, %s, %s, %s, %s, %s, %s, %s, %s, %s, %s, %s, %s, %s, %s, %s, %s\n",
    "        )\n",
    "        ON CONFLICT (booking_date, partner_iban, amount, currency, booking_details, value_date, mandate_id, creditor_id, payment_reference, booking_reference)\n",
    "        DO NOTHING\n",
    "        \"\"\"\n",
    "\n",
    "\n",
    "        for index, row in df.iterrows():\n",
    "            values = (\n",
    "                row['Eigener Kontoname'],  # account_name\n",
    "                row['Eigene IBAN'],  # iban\n",
    "                row['Buchungsdatum'],  # booking_date\n",
    "                row['Partnername'],  # partner_name\n",
    "                row['Partner IBAN'],  # partner_iban\n",
    "                row['BIC/SWIFT'],  # bic_swift\n",
    "                row['Partner Kontonummer'],  # partner_account_number\n",
    "                row['Bankleitzahl'],  # bank_code\n",
    "                row['Betrag'],  # amount\n",
    "                row['Währung'],  # currency\n",
    "                row['Buchungs-Details'],  # booking_details\n",
    "                row['Buchungsreferenz'],  # booking_reference (unique key)\n",
    "                row['Notiz'],  # note\n",
    "                row['Highlight'],  # highlight\n",
    "                row['Valutadatum'],  # value_date\n",
    "                row['Virtuelle Kartennummer'],  # virtual_card_number\n",
    "                row['Bezahlt mit'],  # paid_with\n",
    "                row['App'],  # app\n",
    "                row['Zahlungsreferenz'],  # payment_reference\n",
    "                row['Mandats ID'],  # mandate_id\n",
    "                row['Creditor ID']  # creditor_id\n",
    "            )\n",
    "            # Execute the SQL query for each row\n",
    "            cur.execute(sql, values)\n",
    "        \n",
    "        conn.commit()\n",
    "\n",
    "\n"
   ]
  },
  {
   "cell_type": "code",
   "execution_count": null,
   "metadata": {},
   "outputs": [],
   "source": []
  }
 ],
 "metadata": {
  "kernelspec": {
   "display_name": ".venv",
   "language": "python",
   "name": "python3"
  },
  "language_info": {
   "codemirror_mode": {
    "name": "ipython",
    "version": 3
   },
   "file_extension": ".py",
   "mimetype": "text/x-python",
   "name": "python",
   "nbconvert_exporter": "python",
   "pygments_lexer": "ipython3",
   "version": "3.10.12"
  }
 },
 "nbformat": 4,
 "nbformat_minor": 2
}
