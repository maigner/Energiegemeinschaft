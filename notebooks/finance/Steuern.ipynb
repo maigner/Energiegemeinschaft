{
 "cells": [
  {
   "cell_type": "code",
   "execution_count": null,
   "metadata": {},
   "outputs": [],
   "source": [
    "# Kleinunternehmerregelung\n",
    "# weniger als 35k Umsatz netto\n"
   ]
  },
  {
   "cell_type": "code",
   "execution_count": null,
   "metadata": {},
   "outputs": [],
   "source": [
    "# kein Gewinn == keine KÖSt\n",
    "\n",
    "# Wie Gewinn rechtzeitig verteilen? Gutschriften auf das kommende Jahr?\n",
    "\n"
   ]
  },
  {
   "cell_type": "code",
   "execution_count": null,
   "metadata": {},
   "outputs": [
    {
     "name": "stdout",
     "output_type": "stream",
     "text": [
      "{'gewinn': 50.0, 'jahr': 2023, 'umsatz': 1500.0}\n"
     ]
    }
   ],
   "source": [
    "from pprint import pprint;\n",
    "\n",
    "def einnahmen(jahr):\n",
    "    return 20 * 7\n",
    "\n",
    "def ausgaben (jahr):\n",
    "    return 0\n",
    "\n",
    "def umsatz(jahr):\n",
    "    return einnahmen(jahr)\n",
    "\n",
    "def gewinn(jahr):\n",
    "    return einnahmen(jahr) - ausgaben(jahr)\n",
    "\n",
    "def steuererklärung(jahr):\n",
    "    return {\n",
    "        'jahr': jahr,\n",
    "        'gewinn': gewinn(2023),\n",
    "        'umsatz': umsatz(2023)\n",
    "    }\n",
    "    \n",
    "\n",
    "pprint(steuererklärung(2023))"
   ]
  },
  {
   "cell_type": "code",
   "execution_count": null,
   "metadata": {},
   "outputs": [],
   "source": []
  }
 ],
 "metadata": {
  "kernelspec": {
   "display_name": ".venv",
   "language": "python",
   "name": "python3"
  },
  "language_info": {
   "codemirror_mode": {
    "name": "ipython",
    "version": 3
   },
   "file_extension": ".py",
   "mimetype": "text/x-python",
   "name": "python",
   "nbconvert_exporter": "python",
   "pygments_lexer": "ipython3",
   "version": "3.10.12"
  }
 },
 "nbformat": 4,
 "nbformat_minor": 2
}
