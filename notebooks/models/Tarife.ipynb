{
 "cells": [
  {
   "cell_type": "code",
   "execution_count": 6,
   "metadata": {},
   "outputs": [],
   "source": [
    "import pandas as pd\n",
    "import matplotlib.pyplot as plt"
   ]
  },
  {
   "cell_type": "markdown",
   "metadata": {},
   "source": [
    "# Tarifmodell"
   ]
  },
  {
   "cell_type": "code",
   "execution_count": 2,
   "metadata": {},
   "outputs": [],
   "source": [
    "# from the point of view of the customer\n",
    "sell_cent_per_kilowatt = 18\n",
    "buy_cent_per_kilowatt = 20"
   ]
  },
  {
   "cell_type": "code",
   "execution_count": 3,
   "metadata": {},
   "outputs": [
    {
     "data": {
      "text/html": [
       "<div>\n",
       "<style scoped>\n",
       "    .dataframe tbody tr th:only-of-type {\n",
       "        vertical-align: middle;\n",
       "    }\n",
       "\n",
       "    .dataframe tbody tr th {\n",
       "        vertical-align: top;\n",
       "    }\n",
       "\n",
       "    .dataframe thead th {\n",
       "        text-align: right;\n",
       "    }\n",
       "</style>\n",
       "<table border=\"1\" class=\"dataframe\">\n",
       "  <thead>\n",
       "    <tr style=\"text-align: right;\">\n",
       "      <th></th>\n",
       "      <th>Time</th>\n",
       "      <th>Bezug (Wh)</th>\n",
       "      <th>Energie - Eigenverbrauch (Wh)</th>\n",
       "      <th>Exportieren (Wh)</th>\n",
       "      <th>Produktion (Wh)</th>\n",
       "      <th>Verbrauch (Wh)</th>\n",
       "    </tr>\n",
       "  </thead>\n",
       "  <tbody>\n",
       "    <tr>\n",
       "      <th>0</th>\n",
       "      <td>01.01.2022</td>\n",
       "      <td>485956</td>\n",
       "      <td>64744</td>\n",
       "      <td>98769</td>\n",
       "      <td>163501</td>\n",
       "      <td>550688</td>\n",
       "    </tr>\n",
       "    <tr>\n",
       "      <th>1</th>\n",
       "      <td>01.02.2022</td>\n",
       "      <td>336851</td>\n",
       "      <td>149819</td>\n",
       "      <td>278350</td>\n",
       "      <td>428169</td>\n",
       "      <td>486670</td>\n",
       "    </tr>\n",
       "    <tr>\n",
       "      <th>2</th>\n",
       "      <td>01.03.2022</td>\n",
       "      <td>296589</td>\n",
       "      <td>245811</td>\n",
       "      <td>887382</td>\n",
       "      <td>1133193</td>\n",
       "      <td>542400</td>\n",
       "    </tr>\n",
       "    <tr>\n",
       "      <th>3</th>\n",
       "      <td>01.04.2022</td>\n",
       "      <td>360511</td>\n",
       "      <td>347990</td>\n",
       "      <td>635122</td>\n",
       "      <td>983112</td>\n",
       "      <td>708501</td>\n",
       "    </tr>\n",
       "    <tr>\n",
       "      <th>4</th>\n",
       "      <td>01.05.2022</td>\n",
       "      <td>236243</td>\n",
       "      <td>379975</td>\n",
       "      <td>791630</td>\n",
       "      <td>1171605</td>\n",
       "      <td>616218</td>\n",
       "    </tr>\n",
       "  </tbody>\n",
       "</table>\n",
       "</div>"
      ],
      "text/plain": [
       "         Time  Bezug (Wh)  Energie - Eigenverbrauch (Wh)  Exportieren (Wh)  \\\n",
       "0  01.01.2022      485956                          64744             98769   \n",
       "1  01.02.2022      336851                         149819            278350   \n",
       "2  01.03.2022      296589                         245811            887382   \n",
       "3  01.04.2022      360511                         347990            635122   \n",
       "4  01.05.2022      236243                         379975            791630   \n",
       "\n",
       "   Produktion (Wh)  Verbrauch (Wh)  \n",
       "0           163501          550688  \n",
       "1           428169          486670  \n",
       "2          1133193          542400  \n",
       "3           983112          708501  \n",
       "4          1171605          616218  "
      ]
     },
     "execution_count": 3,
     "metadata": {},
     "output_type": "execute_result"
    }
   ],
   "source": [
    "# PV Loskoglweg 14\n",
    "data_file=\"Leistung und Energieertrag 13.11.2023 19 04.csv\"\n",
    "df = pd.read_csv(data_file)\n",
    "df.head()"
   ]
  },
  {
   "cell_type": "code",
   "execution_count": 4,
   "metadata": {},
   "outputs": [
    {
     "data": {
      "text/html": [
       "<div>\n",
       "<style scoped>\n",
       "    .dataframe tbody tr th:only-of-type {\n",
       "        vertical-align: middle;\n",
       "    }\n",
       "\n",
       "    .dataframe tbody tr th {\n",
       "        vertical-align: top;\n",
       "    }\n",
       "\n",
       "    .dataframe thead th {\n",
       "        text-align: right;\n",
       "    }\n",
       "</style>\n",
       "<table border=\"1\" class=\"dataframe\">\n",
       "  <thead>\n",
       "    <tr style=\"text-align: right;\">\n",
       "      <th></th>\n",
       "      <th>Time</th>\n",
       "      <th>Bezug (Wh)</th>\n",
       "      <th>Energie - Eigenverbrauch (Wh)</th>\n",
       "      <th>Exportieren (Wh)</th>\n",
       "      <th>Produktion (Wh)</th>\n",
       "      <th>Verbrauch (Wh)</th>\n",
       "      <th>Bezugspreis (Euro)</th>\n",
       "      <th>Exportertrag (Euro)</th>\n",
       "    </tr>\n",
       "  </thead>\n",
       "  <tbody>\n",
       "    <tr>\n",
       "      <th>0</th>\n",
       "      <td>01.01.2022</td>\n",
       "      <td>485956</td>\n",
       "      <td>64744</td>\n",
       "      <td>98769</td>\n",
       "      <td>163501</td>\n",
       "      <td>550688</td>\n",
       "      <td>97.1912</td>\n",
       "      <td>19.7538</td>\n",
       "    </tr>\n",
       "    <tr>\n",
       "      <th>1</th>\n",
       "      <td>01.02.2022</td>\n",
       "      <td>336851</td>\n",
       "      <td>149819</td>\n",
       "      <td>278350</td>\n",
       "      <td>428169</td>\n",
       "      <td>486670</td>\n",
       "      <td>67.3702</td>\n",
       "      <td>55.6700</td>\n",
       "    </tr>\n",
       "    <tr>\n",
       "      <th>2</th>\n",
       "      <td>01.03.2022</td>\n",
       "      <td>296589</td>\n",
       "      <td>245811</td>\n",
       "      <td>887382</td>\n",
       "      <td>1133193</td>\n",
       "      <td>542400</td>\n",
       "      <td>59.3178</td>\n",
       "      <td>177.4764</td>\n",
       "    </tr>\n",
       "    <tr>\n",
       "      <th>3</th>\n",
       "      <td>01.04.2022</td>\n",
       "      <td>360511</td>\n",
       "      <td>347990</td>\n",
       "      <td>635122</td>\n",
       "      <td>983112</td>\n",
       "      <td>708501</td>\n",
       "      <td>72.1022</td>\n",
       "      <td>127.0244</td>\n",
       "    </tr>\n",
       "    <tr>\n",
       "      <th>4</th>\n",
       "      <td>01.05.2022</td>\n",
       "      <td>236243</td>\n",
       "      <td>379975</td>\n",
       "      <td>791630</td>\n",
       "      <td>1171605</td>\n",
       "      <td>616218</td>\n",
       "      <td>47.2486</td>\n",
       "      <td>158.3260</td>\n",
       "    </tr>\n",
       "  </tbody>\n",
       "</table>\n",
       "</div>"
      ],
      "text/plain": [
       "         Time  Bezug (Wh)  Energie - Eigenverbrauch (Wh)  Exportieren (Wh)  \\\n",
       "0  01.01.2022      485956                          64744             98769   \n",
       "1  01.02.2022      336851                         149819            278350   \n",
       "2  01.03.2022      296589                         245811            887382   \n",
       "3  01.04.2022      360511                         347990            635122   \n",
       "4  01.05.2022      236243                         379975            791630   \n",
       "\n",
       "   Produktion (Wh)  Verbrauch (Wh)  Bezugspreis (Euro)  Exportertrag (Euro)  \n",
       "0           163501          550688             97.1912              19.7538  \n",
       "1           428169          486670             67.3702              55.6700  \n",
       "2          1133193          542400             59.3178             177.4764  \n",
       "3           983112          708501             72.1022             127.0244  \n",
       "4          1171605          616218             47.2486             158.3260  "
      ]
     },
     "execution_count": 4,
     "metadata": {},
     "output_type": "execute_result"
    }
   ],
   "source": [
    "# adding prices\n",
    "df['Bezugspreis (Euro)'] = df['Bezug (Wh)'] / 1000.0 * buy_cent_per_kilowatt / 100.0\n",
    "df['Exportertrag (Euro)'] = df['Exportieren (Wh)'] / 1000.0 * buy_cent_per_kilowatt / 100.0\n",
    "\n",
    "df.head()"
   ]
  },
  {
   "cell_type": "code",
   "execution_count": 10,
   "metadata": {},
   "outputs": [
    {
     "data": {
      "text/plain": [
       "<Axes: xlabel='Time'>"
      ]
     },
     "execution_count": 10,
     "metadata": {},
     "output_type": "execute_result"
    },
    {
     "data": {
      "image/png": "[encoded data removed]",
      "text/plain": [
       "<Figure size 640x480 with 1 Axes>"
      ]
     },
     "metadata": {},
     "output_type": "display_data"
    }
   ],
   "source": [
    "df.plot(x='Time', y=['Bezugspreis (Euro)', 'Exportertrag (Euro)'])"
   ]
  },
  {
   "cell_type": "code",
   "execution_count": null,
   "metadata": {},
   "outputs": [],
   "source": []
  }
 ],
 "metadata": {
  "kernelspec": {
   "display_name": ".venv",
   "language": "python",
   "name": "python3"
  },
  "language_info": {
   "codemirror_mode": {
    "name": "ipython",
    "version": 3
   },
   "file_extension": ".py",
   "mimetype": "text/x-python",
   "name": "python",
   "nbconvert_exporter": "python",
   "pygments_lexer": "ipython3",
   "version": "3.10.12"
  }
 },
 "nbformat": 4,
 "nbformat_minor": 2
}
