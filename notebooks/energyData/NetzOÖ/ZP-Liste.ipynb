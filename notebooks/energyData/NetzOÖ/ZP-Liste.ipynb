{
 "cells": [
  {
   "cell_type": "code",
   "execution_count": null,
   "id": "a616a6b9",
   "metadata": {},
   "outputs": [],
   "source": [
    "%pip install openpyxl pandas\n"
   ]
  },
  {
   "cell_type": "code",
   "execution_count": null,
   "id": "b2024246",
   "metadata": {},
   "outputs": [],
   "source": [
    "start_date = '2025-04-01'\n",
    "end_date = '2025-07-01'"
   ]
  },
  {
   "cell_type": "code",
   "execution_count": null,
   "id": "c9368488",
   "metadata": {},
   "outputs": [],
   "source": [
    "# get most recent file starting with 'RC101533' in '/home/martin/Downloads'\n",
    "import os\n",
    "import glob \n",
    "\n",
    "downloads_path = '/home/martin/Downloads'\n",
    "file_pattern = os.path.join(downloads_path, 'RC101533*PODLIST.xlsx')\n",
    "files = glob.glob(file_pattern)\n",
    "if files:\n",
    "    most_recent_file = max(files, key=os.path.getctime)\n",
    "else:\n",
    "    most_recent_file = None\n",
    "print(f\"Most recent file: {most_recent_file}\")"
   ]
  },
  {
   "cell_type": "code",
   "execution_count": null,
   "id": "e287d18d",
   "metadata": {},
   "outputs": [],
   "source": [
    "\n",
    "#read the file to dataframe\n",
    "import pandas as pd\n",
    "df = pd.read_excel(most_recent_file)\n",
    "\n",
    "# convert 'aktiv seit' and 'aktiv bis' to format comparable with start_date and end_date\n",
    "df['aktiv seit'] = pd.to_datetime(df['aktiv seit'], errors='coerce').dt.strftime('%Y-%m-%d')\n",
    "df['aktiviert'] = pd.to_datetime(df['aktiviert'], errors='coerce').dt.strftime('%Y-%m-%d')\n",
    "\n",
    "#df['aktiv bis'] = pd.to_datetime(df['aktiv bis'], errors='coerce').dt.strftime('%Y-%m-%d')\n",
    "\n",
    "# if 'aktiv bis' is 9999-12-31, set it to NaN\n",
    "df['aktiv bis'] = df['aktiv bis'].replace('9999-12-31', pd.NaT)\n",
    "df['aktiv bis'] = pd.to_datetime(df['aktiv bis'], errors='coerce').dt.strftime('%Y-%m-%d')"
   ]
  },
  {
   "cell_type": "code",
   "execution_count": null,
   "id": "628fa0fe",
   "metadata": {},
   "outputs": [],
   "source": [
    "df"
   ]
  },
  {
   "cell_type": "markdown",
   "id": "06f9cec1",
   "metadata": {},
   "source": []
  },
  {
   "cell_type": "code",
   "execution_count": null,
   "id": "cd41fd28",
   "metadata": {},
   "outputs": [],
   "source": [
    "# filter by 'aktiv seit' smaller than end_date and 'aktiv bis' larger than start_date or NaN\n",
    "df_filtered = df[(df['aktiv seit'] < end_date) & (df['aktiv bis'] >= start_date) | df['aktiv bis'].isna()]"
   ]
  },
  {
   "cell_type": "code",
   "execution_count": null,
   "id": "7155f30a",
   "metadata": {},
   "outputs": [],
   "source": [
    "df_filtered"
   ]
  },
  {
   "cell_type": "code",
   "execution_count": null,
   "id": "f1e56a9c",
   "metadata": {},
   "outputs": [],
   "source": [
    "# get most recent file 'RC101533-EEG-Masterdata*.xlsx' in '/home/martin/Downloads'\n",
    "file_pattern = os.path.join(downloads_path, 'RC101533-EEG-Masterdata*.xlsx')\n",
    "files = glob.glob(file_pattern)\n",
    "if files:\n",
    "    most_recent_file_mitglieder = max(files, key=os.path.getctime)\n",
    "else:\n",
    "    most_recent_file_mitglieder = None\n",
    "print(f\"Most recent file mitglieder: {most_recent_file_mitglieder}\")    "
   ]
  },
  {
   "cell_type": "code",
   "execution_count": null,
   "id": "c2c283f2",
   "metadata": {},
   "outputs": [],
   "source": [
    "df_mitglieder = pd.read_excel(most_recent_file_mitglieder, sheet_name='Mitglieder')\n",
    "\n",
    "# convert 'aktiviert' and 'deaktiviert' to format comparable with start_date and end_date\n",
    "df_mitglieder['aktiviert'] = pd.to_datetime(df_mitglieder['aktiviert'], errors='coerce').dt.strftime('%Y-%m-%d')\n",
    "df_mitglieder['deaktiviert'] = pd.to_datetime(df_mitglieder['deaktiviert'], errors='coerce').dt.strftime('%Y-%m-%d')\n"
   ]
  },
  {
   "cell_type": "code",
   "execution_count": null,
   "id": "68b8603c",
   "metadata": {},
   "outputs": [],
   "source": [
    "# select only columns 'Zählpunkt', 'ZP-Status', 'aktiviert', 'Mitgliedstarif', 'deaktiviert'\n",
    "#df_mitglieder = df_mitglieder[['Zählpunkt', 'ZP-Status', 'aktiviert', 'Mitgliedstarif', 'deaktiviert']]"
   ]
  },
  {
   "cell_type": "code",
   "execution_count": null,
   "id": "676f7fb9",
   "metadata": {},
   "outputs": [],
   "source": [
    "# only unique rows\n",
    "df_mitglieder = df_mitglieder.drop_duplicates()\n"
   ]
  },
  {
   "cell_type": "code",
   "execution_count": null,
   "id": "ba5b1cbf",
   "metadata": {},
   "outputs": [],
   "source": [
    "# filter df_mitglieder by 'aktiviert' < 2025-07-01 and 'deaktiviert' >= 2025-04-01 or NaN\n",
    "# and ZP-Status is 'ACTIVE'\n",
    "df_mitglieder_filtered = df_mitglieder[(df_mitglieder['aktiviert'] < end_date) & (df_mitglieder['deaktiviert'] >= start_date) | df_mitglieder['deaktiviert'].isna() & (df_mitglieder['ZP-Status'] == 'ACTIVE')] \n"
   ]
  },
  {
   "cell_type": "code",
   "execution_count": null,
   "id": "53a36042",
   "metadata": {},
   "outputs": [],
   "source": [
    "df_mitglieder_filtered['Zp. Tarifname'].unique()"
   ]
  },
  {
   "cell_type": "markdown",
   "id": "1de70ed1",
   "metadata": {},
   "source": [
    "# Data checks"
   ]
  },
  {
   "cell_type": "code",
   "execution_count": null,
   "id": "a25ca64b",
   "metadata": {},
   "outputs": [],
   "source": [
    "# iterate df_mitglieder_filtered\n",
    "\n",
    "for index, row in df_mitglieder_filtered.iterrows():\n",
    "    zählpunkt = row['Zählpunkt']\n",
    "    status = row['ZP-Status']\n",
    "    aktiviert = row['aktiviert']\n",
    "    tarif = row['Mitgliedstarif']\n",
    "    deaktiviert = row['deaktiviert']\n",
    "    #print(f\"Zählpunkt: {zählpunkt}, Status: {status}, Aktiviert: {aktiviert}, Tarif: {tarif}, Deaktiviert: {deaktiviert}\")\n",
    "    # check if zählpunkt is in df_filtered\n",
    "    if zählpunkt not in df_filtered['Zählpunktname'].values:\n",
    "        print(f\"Zählpunkt {zählpunkt} is NOT in df_filtered\")\n",
    "        print(f\"Status: {status}, Aktiviert: {aktiviert}, Tarif: {tarif}, Deaktiviert: {deaktiviert}\")\n",
    "    else:    \n",
    "        # get row from df_filtered\n",
    "        row = df_filtered[df_filtered['Zählpunktname'] == zählpunkt]\n",
    "        netz_aktiviert = row['aktiv seit'].values[0]\n",
    "\n",
    "        \n",
    "\n",
    "        # TODO: branch not working\n",
    "        if netz_aktiviert != aktiviert:\n",
    "            print(\"falsches datum\")\n",
    "            print(zählpunkt)\n",
    "            print(aktiviert)\n",
    "            print(netz_aktiviert)\n",
    "            print(\"\\n\")\n",
    "\n",
    "    \n",
    "    \n"
   ]
  },
  {
   "cell_type": "code",
   "execution_count": null,
   "id": "0a8c9b94",
   "metadata": {},
   "outputs": [],
   "source": [
    "# iterate df_filtered\n",
    "for index, row in df_filtered.iterrows():\n",
    "    zählpunkt = row['Zählpunktname']\n",
    "    aktiv_seit = row['aktiv seit']\n",
    "    aktiv_bis = row['aktiv bis']\n",
    "    # print(f\"Zählpunkt: {zählpunkt}, Aktiv seit: {aktiv_seit}\")\n",
    "    # check if zählpunkt is in df_mitglieder_filtered\n",
    "    if zählpunkt not in df_mitglieder_filtered['Zählpunkt'].values:\n",
    "        print(f\"Zählpunkt {zählpunkt} is NOT in df_mitglieder_filtered\")\n",
    "        print(f\"Aktiv seit: {aktiv_seit} Aktiv bis: {aktiv_bis}\")"
   ]
  },
  {
   "cell_type": "code",
   "execution_count": null,
   "id": "cf3836ba",
   "metadata": {},
   "outputs": [],
   "source": [
    "# filter all rows of df_mitglieder_filtered where Mitgliedstarif is empty\n",
    "df_mitglieder_filtered_empty_tarif = df_mitglieder_filtered[df_mitglieder_filtered['Mitgliedstarif'].isnull()]\n",
    "df_mitglieder_filtered_empty_tarif"
   ]
  },
  {
   "cell_type": "code",
   "execution_count": null,
   "id": "981becee",
   "metadata": {},
   "outputs": [],
   "source": [
    "# alle start daten checken\n",
    "\n",
    "# vergleichsdaten summe Q2\n",
    "# gesamte erzeugung: 213228.51\n",
    "# eigendeckung: 60689.45\n",
    "# restüberschuss: 152539.06\n",
    "\n"
   ]
  }
 ],
 "metadata": {
  "kernelspec": {
   "display_name": ".venv",
   "language": "python",
   "name": "python3"
  },
  "language_info": {
   "codemirror_mode": {
    "name": "ipython",
    "version": 3
   },
   "file_extension": ".py",
   "mimetype": "text/x-python",
   "name": "python",
   "nbconvert_exporter": "python",
   "pygments_lexer": "ipython3",
   "version": "3.13.3"
  }
 },
 "nbformat": 4,
 "nbformat_minor": 5
}
