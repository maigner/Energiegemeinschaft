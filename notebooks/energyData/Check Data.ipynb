{
 "cells": [
  {
   "cell_type": "code",
   "execution_count": null,
   "id": "391e3f6d",
   "metadata": {},
   "outputs": [],
   "source": [
    "%pip install openpyxl pandas\n"
   ]
  },
  {
   "cell_type": "code",
   "execution_count": null,
   "id": "e9bb58b9",
   "metadata": {},
   "outputs": [],
   "source": [
    "FILENAME=\"~/Downloads/RC101533-Energy-Report-20250401_20250630 (2).xlsx\"\n",
    "\n",
    "start_date = '2025-04-01'\n",
    "end_date = '2025-07-01'\n",
    "\n",
    "import pandas as pd\n",
    "\n"
   ]
  }
 ],
 "metadata": {
  "kernelspec": {
   "display_name": ".venv",
   "language": "python",
   "name": "python3"
  },
  "language_info": {
   "codemirror_mode": {
    "name": "ipython",
    "version": 3
   },
   "file_extension": ".py",
   "mimetype": "text/x-python",
   "name": "python",
   "nbconvert_exporter": "python",
   "pygments_lexer": "ipython3",
   "version": "3.13.3"
  }
 },
 "nbformat": 4,
 "nbformat_minor": 5
}
