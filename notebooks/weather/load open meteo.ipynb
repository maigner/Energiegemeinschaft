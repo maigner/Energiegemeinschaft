{
 "cells": [
  {
   "cell_type": "code",
   "execution_count": null,
   "metadata": {},
   "outputs": [],
   "source": [
    "%pip install \"psycopg[binary,pool]\" pytz requests\n"
   ]
  },
  {
   "cell_type": "code",
   "execution_count": null,
   "metadata": {},
   "outputs": [],
   "source": [
    "import requests\n",
    "import json\n",
    "\n",
    "# download data\n",
    "data = {}\n",
    "\n",
    "# https://api.open-meteo.com/v1/forecast?latitude=47.712596&longitude=13.618029&hourly=temperature_2m,cloud_cover,rain,snowfall,snow_depth,cloud_cover_low,cloud_cover_mid,cloud_cover_high,visibility,relative_humidity_2m,dew_point_2m&timezone=Europe%2FBerlin&past_days=7\n",
    "\n",
    "# returns JSON\n",
    "\n",
    "url = \"https://api.open-meteo.com/v1/forecast?latitude=47.712596&longitude=13.618029&hourly=temperature_2m,cloud_cover,rain,snowfall,snow_depth,cloud_cover_low,cloud_cover_mid,cloud_cover_high,visibility,relative_humidity_2m,dew_point_2m&timezone=Europe%2FBerlin&past_days=7\"\n",
    "response = requests.get(url)\n",
    "\n",
    "if response.status_code == 200:\n",
    "    data = response.json()  # Automatically parses JSON into a Python dictionary\n",
    "    print(\"Downloaded JSON successfully!\")\n",
    "    print(data)\n",
    "else:\n",
    "    print(f\"Failed to download JSON. Status code: {response.status_code}\")\n"
   ]
  },
  {
   "cell_type": "code",
   "execution_count": null,
   "metadata": {},
   "outputs": [],
   "source": [
    "hourly_units = data['hourly_units']\n",
    "hourly_units\n"
   ]
  },
  {
   "cell_type": "markdown",
   "metadata": {},
   "source": [
    "Load CSV into a Python data structure for processing"
   ]
  },
  {
   "cell_type": "code",
   "execution_count": null,
   "metadata": {},
   "outputs": [],
   "source": [
    "metrics = list(hourly_units.keys())\n",
    "metrics"
   ]
  },
  {
   "cell_type": "code",
   "execution_count": null,
   "metadata": {},
   "outputs": [],
   "source": [
    "import pandas as pd"
   ]
  },
  {
   "cell_type": "code",
   "execution_count": null,
   "metadata": {},
   "outputs": [],
   "source": [
    "hourly = data[\"hourly\"]\n",
    "data_frame_setup = {}\n",
    "\n",
    "for metric in metrics:\n",
    "    data_frame_setup[metric] = hourly[metric]\n",
    "    "
   ]
  },
  {
   "cell_type": "code",
   "execution_count": null,
   "metadata": {},
   "outputs": [],
   "source": [
    "df = pd.DataFrame(data_frame_setup)\n",
    "\n",
    "df['time'] = pd.to_datetime(df['time'])\n",
    "\n"
   ]
  },
  {
   "cell_type": "code",
   "execution_count": null,
   "metadata": {},
   "outputs": [],
   "source": [
    "df"
   ]
  },
  {
   "cell_type": "code",
   "execution_count": null,
   "metadata": {},
   "outputs": [],
   "source": [
    "import psycopg\n",
    "import os\n",
    "import csv\n",
    "\n",
    "csv_file_path = \"/home/martin/Downloads/open-meteo-47.70N13.51E474m(1).csv\"\n",
    "\n",
    "\n",
    "os.environ['PGSERVICEFILE'] = \"/home/martin/Workspace/Energiegemeinschaft/notebooks/.pg_service.conf\"\n",
    "os.environ['PGPASSFILE'] = \"/home/martin/Workspace/Energiegemeinschaft/notebooks/.pgpass\"\n",
    "\n",
    "with psycopg.connect(service='eeg-middleware') as conn:\n",
    "    with conn.cursor() as cur:\n",
    "        \n",
    "        with open(csv_file_path, mode=\"r\", newline=\"\", encoding=\"utf-8\") as csvfile:\n",
    "            reader = csv.DictReader(csvfile)  # Reads header and returns each row as a dictionary\n",
    "\n",
    "            for row in reader:\n",
    "                print(row)  # You can also access individual columns like row[\"temperature_2m (°C)\"]\n",
    "            \n",
    "                insert_sql = \"\"\"\n",
    "                    INSERT INTO weather_historicweatherdata (\n",
    "                        timestamp,\n",
    "                        temperature_2m,\n",
    "                        cloud_cover,\n",
    "                        direct_radiation,\n",
    "                        rain,\n",
    "                        snowfall,\n",
    "                        cloud_cover_low,\n",
    "                        cloud_cover_mid,\n",
    "                        cloud_cover_high\n",
    "                    )\n",
    "                    VALUES (%s, %s, %s, %s, %s, %s, %s, %s, %s)\n",
    "                    ON CONFLICT (timestamp) DO NOTHING;\n",
    "                \"\"\"\n",
    "\n",
    "                data = (\n",
    "                    row['time'],  # timestamp\n",
    "                    row['temperature_2m (°C)'],\n",
    "                    row['cloud_cover (%)'],\n",
    "                    row['direct_radiation (W/m²)'],\n",
    "                    row['rain (mm)'],\n",
    "                    row['snowfall (cm)'],\n",
    "                    row['cloud_cover_low (%)'],\n",
    "                    row['cloud_cover_mid (%)'],\n",
    "                    row['cloud_cover_high (%)'],\n",
    "                )\n",
    "\n",
    "                cur.execute(insert_sql, data)\n",
    "                \n",
    "            # for\n",
    "        # open\n",
    "            \n",
    "        c = conn.commit()\n",
    "        #print(c)\n",
    "        print(\"Data inserted successfully.\")\n",
    "        \n",
    "        "
   ]
  }
 ],
 "metadata": {
  "kernelspec": {
   "display_name": ".venv",
   "language": "python",
   "name": "python3"
  },
  "language_info": {
   "codemirror_mode": {
    "name": "ipython",
    "version": 3
   },
   "file_extension": ".py",
   "mimetype": "text/x-python",
   "name": "python",
   "nbconvert_exporter": "python",
   "pygments_lexer": "ipython3",
   "version": "3.10.12"
  }
 },
 "nbformat": 4,
 "nbformat_minor": 2
}
