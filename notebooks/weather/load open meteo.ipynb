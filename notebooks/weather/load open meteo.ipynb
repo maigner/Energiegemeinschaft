{
 "cells": [
  {
   "cell_type": "code",
   "execution_count": null,
   "metadata": {},
   "outputs": [],
   "source": [
    "%pip install \"psycopg[binary,pool]\" pytz requests\n"
   ]
  },
  {
   "cell_type": "code",
   "execution_count": null,
   "metadata": {},
   "outputs": [],
   "source": [
    "import requests\n",
    "import json\n",
    "\n",
    "# download data\n",
    "data = {}\n",
    "\n",
    "\n",
    "# returns JSON\n",
    "\n",
    "url = \"https://api.open-meteo.com/v1/forecast?latitude=47.712596&longitude=13.618029&hourly=temperature_2m,cloud_cover,rain,snowfall,snow_depth,cloud_cover_low,cloud_cover_mid,cloud_cover_high,visibility,relative_humidity_2m,dew_point_2m&timezone=Europe%2FBerlin&forecast_days=14\"\n",
    "response = requests.get(url)\n",
    "\n",
    "if response.status_code == 200:\n",
    "    data = response.json()  # Automatically parses JSON into a Python dictionary\n",
    "    print(\"Downloaded JSON successfully!\")\n",
    "    print(data)\n",
    "else:\n",
    "    print(f\"Failed to download JSON. Status code: {response.status_code}\")\n"
   ]
  },
  {
   "cell_type": "code",
   "execution_count": null,
   "metadata": {},
   "outputs": [],
   "source": [
    "hourly_units = data['hourly_units']\n",
    "hourly_units\n"
   ]
  },
  {
   "cell_type": "markdown",
   "metadata": {},
   "source": [
    "Load CSV into a Python data structure for processing"
   ]
  },
  {
   "cell_type": "code",
   "execution_count": null,
   "metadata": {},
   "outputs": [],
   "source": [
    "metrics = list(hourly_units.keys())\n",
    "metrics"
   ]
  },
  {
   "cell_type": "code",
   "execution_count": null,
   "metadata": {},
   "outputs": [],
   "source": [
    "import pandas as pd"
   ]
  },
  {
   "cell_type": "code",
   "execution_count": null,
   "metadata": {},
   "outputs": [],
   "source": [
    "hourly = data[\"hourly\"]\n",
    "data_frame_setup = {}\n",
    "\n",
    "for metric in metrics:\n",
    "    data_frame_setup[metric] = hourly[metric]\n",
    "    "
   ]
  },
  {
   "cell_type": "code",
   "execution_count": null,
   "metadata": {},
   "outputs": [],
   "source": [
    "df = pd.DataFrame(data_frame_setup)\n",
    "\n",
    "df['time'] = pd.to_datetime(df['time'])\n",
    "\n"
   ]
  },
  {
   "cell_type": "code",
   "execution_count": null,
   "metadata": {},
   "outputs": [],
   "source": [
    "df.describe()"
   ]
  },
  {
   "cell_type": "code",
   "execution_count": null,
   "metadata": {},
   "outputs": [],
   "source": [
    "from psycopg import connect\n",
    "from psycopg.rows import dict_row\n",
    "from psycopg import sql\n",
    "\n",
    "\n",
    "\n",
    "os.environ['PGSERVICEFILE'] = \"/home/martin/Workspace/Energiegemeinschaft/notebooks/.pg_service.conf\"\n",
    "os.environ['PGPASSFILE'] = \"/home/martin/Workspace/Energiegemeinschaft/notebooks/.pgpass\"\n",
    "\n",
    "data_tuples = [\n",
    "    (\n",
    "        row['time'],\n",
    "        row['temperature_2m'],\n",
    "        row['cloud_cover'],\n",
    "        row['rain'],\n",
    "        row['snowfall'],\n",
    "        row['snow_depth'],\n",
    "        row['cloud_cover_low'],\n",
    "        row['cloud_cover_mid'],\n",
    "        row['cloud_cover_high'],\n",
    "        row['visibility'],\n",
    "        row['relative_humidity_2m'],\n",
    "        row['dew_point_2m'],\n",
    "    )\n",
    "    for _, row in df.iterrows()\n",
    "]\n",
    "\n",
    "with psycopg.connect(service='eeg-middleware') as conn:\n",
    "    with conn.cursor() as cur:\n",
    "        \n",
    "        cur.executemany(\n",
    "            \"\"\"\n",
    "            INSERT INTO weather_weatherdata (\n",
    "                time, temperature_2m, cloud_cover, rain, snowfall, snow_depth,\n",
    "                cloud_cover_low, cloud_cover_mid, cloud_cover_high,\n",
    "                visibility, relative_humidity_2m, dew_point_2m\n",
    "            ) VALUES (%s, %s, %s, %s, %s, %s, %s, %s, %s, %s, %s, %s)\n",
    "            ON CONFLICT (time) DO UPDATE SET\n",
    "                temperature_2m = EXCLUDED.temperature_2m,\n",
    "                cloud_cover = EXCLUDED.cloud_cover,\n",
    "                rain = EXCLUDED.rain,\n",
    "                snowfall = EXCLUDED.snowfall,\n",
    "                snow_depth = EXCLUDED.snow_depth,\n",
    "                cloud_cover_low = EXCLUDED.cloud_cover_low,\n",
    "                cloud_cover_mid = EXCLUDED.cloud_cover_mid,\n",
    "                cloud_cover_high = EXCLUDED.cloud_cover_high,\n",
    "                visibility = EXCLUDED.visibility,\n",
    "                relative_humidity_2m = EXCLUDED.relative_humidity_2m,\n",
    "                dew_point_2m = EXCLUDED.dew_point_2m\n",
    "            \"\"\",\n",
    "            data_tuples\n",
    "        )\n",
    "        print(\"Data inserted successfully.\")\n",
    "        \n",
    "        "
   ]
  },
  {
   "cell_type": "code",
   "execution_count": null,
   "metadata": {},
   "outputs": [],
   "source": []
  }
 ],
 "metadata": {
  "kernelspec": {
   "display_name": ".venv",
   "language": "python",
   "name": "python3"
  },
  "language_info": {
   "codemirror_mode": {
    "name": "ipython",
    "version": 3
   },
   "file_extension": ".py",
   "mimetype": "text/x-python",
   "name": "python",
   "nbconvert_exporter": "python",
   "pygments_lexer": "ipython3",
   "version": "3.10.12"
  }
 },
 "nbformat": 4,
 "nbformat_minor": 2
}
